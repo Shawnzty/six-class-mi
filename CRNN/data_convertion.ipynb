{
 "cells": [
  {
   "cell_type": "code",
   "execution_count": 1,
   "metadata": {},
   "outputs": [],
   "source": [
    "import numpy as np\n",
    "import matplotlib.pyplot as plt"
   ]
  },
  {
   "cell_type": "code",
   "execution_count": 2,
   "metadata": {},
   "outputs": [
    {
     "data": {
      "image/png": "[encoded data removed]",
      "text/plain": [
       "<Figure size 528x480 with 1 Axes>"
      ]
     },
     "metadata": {},
     "output_type": "display_data"
    }
   ],
   "source": [
    "def data_1Dto2D(data, Y=10, X=11):\n",
    "\tdata_2D = np.zeros([Y, X])\n",
    "\tdata_2D[0] = ( \t   \t 0, \t   0,  \t   \t 0, \t   0, \t     0, \t   0, \t     0, \t   0,  \t     0, \t   0, \t \t 0) \n",
    "\tdata_2D[1] = (\t  \t 0, \t   0,  \t   \t 0, \t   0, \t     0, \t   0, \t     0, \t   0, \t   \t 0,   \t   0, \t \t 0) \n",
    "\tdata_2D[2] = (\t  \t 0, \t   0,  data[1],  data[2],  data[3],  data[4],  data[5],  data[6],  data[7],   \t   0, \t \t 0) \n",
    "\tdata_2D[3] = (\t  \t 0,   \t   0,  data[8],  data[9], data[10], data[11], data[12], data[13], data[14],   \t   0, \t\t 0) \n",
    "\tdata_2D[4] = (   \t 0,   \t   0, data[15], data[16], data[17], data[18], data[19], data[20], data[21],    \t   0,   \t 0) \n",
    "\tdata_2D[5] = (\t  \t 0,   \t   0,        0, data[22], data[23], data[24], data[25], data[26],        0,   \t   0, \t\t 0) \n",
    "\tdata_2D[6] = (\t  \t 0,   \t   0,        0, data[27], data[28], data[29], data[30], data[31],    \t 0,   \t   0, \t\t 0) \n",
    "\tdata_2D[7] = (\t  \t 0, \t   0, \t \t 0,    \t   0,   \t 0,   \t   0,   \t 0,   \t   0, \t   \t 0, \t   0, \t\t 0) \n",
    "\tdata_2D[8] = (\t  \t 0, \t   0, \t \t 0, \t   0,        0,   \t   0,   \t 0, \t   0, \t   \t 0, \t   0, \t\t 0) \n",
    "\tdata_2D[9] = (\t  \t 0, \t   0, \t \t 0, \t   0, \t     0,   \t   0, \t\t 0, \t   0, \t   \t 0, \t   0, \t\t 0) \n",
    "\treturn data_2D\n",
    "\n",
    "def data_1Dto2D_1(data, Y=5, X=7):\n",
    "\tdata_2D = np.zeros([Y, X])\n",
    "\tdata_2D[0] = (data[1],  data[2],  data[3],  data[4],  data[5],  data[6],  data[7]) \n",
    "\tdata_2D[1] = (data[8],  data[9], data[10], data[11], data[12], data[13], data[14]) \n",
    "\tdata_2D[2] = (data[15], data[16], data[17], data[18], data[19], data[20], data[21]) \n",
    "\tdata_2D[3] = (        0, data[22], data[23], data[24], data[25], data[26],        0) \n",
    "\tdata_2D[4] = (        0, data[27], data[28], data[29], data[30], data[31],    \t 0) \n",
    "\treturn data_2D\n",
    "\n",
    "data = np.arange(32)\n",
    "data_2D = data_1Dto2D(data)\n",
    "plt.matshow(data_2D)\n",
    "plt.show()"
   ]
  }
 ],
 "metadata": {
  "kernelspec": {
   "display_name": "tensorflow",
   "language": "python",
   "name": "python3"
  },
  "language_info": {
   "codemirror_mode": {
    "name": "ipython",
    "version": 3
   },
   "file_extension": ".py",
   "mimetype": "text/x-python",
   "name": "python",
   "nbconvert_exporter": "python",
   "pygments_lexer": "ipython3",
   "version": "3.11.10"
  }
 },
 "nbformat": 4,
 "nbformat_minor": 2
}
