{
 "cells": [
  {
   "cell_type": "code",
   "execution_count": 572,
   "metadata": {},
   "outputs": [],
   "source": [
    "# conda environment tf-gpu"
   ]
  },
  {
   "cell_type": "code",
   "execution_count": 573,
   "metadata": {},
   "outputs": [],
   "source": [
    "from sklearn.model_selection import train_test_split\n",
    "from os import listdir\n",
    "from os.path import isfile, join\n",
    "from scipy.io import savemat, loadmat\n",
    "from sklearn.metrics import confusion_matrix\n",
    "\n",
    "# import mat73\n",
    "import numpy as np\n",
    "import os\n",
    "import matplotlib.pyplot as plt\n",
    "import seaborn as sns\n",
    "\n",
    "import os\n",
    "import re\n",
    "import random\n",
    "import einops\n",
    "from scipy.io import loadmat\n",
    "from pathlib import Path\n",
    "from PIL import Image\n",
    "# import PIL.Image as Image\n",
    "\n",
    "import matplotlib.pyplot as plt\n",
    "import numpy as np\n",
    "import pandas as pd\n",
    "# the following import is required for matplotlib < 3.2:\n",
    "from mpl_toolkits.mplot3d import Axes3D  # noqa\n",
    "import matplotlib\n",
    "# matplotlib.use('Agg') # use a non-interactive backend such as Agg (for PNGs), PDF, SVG or PS."
   ]
  },
  {
   "cell_type": "code",
   "execution_count": 574,
   "metadata": {},
   "outputs": [
    {
     "name": "stdout",
     "output_type": "stream",
     "text": [
      "TensorFlow version: 2.6.0\n"
     ]
    }
   ],
   "source": [
    "# using CNN with TensorFlow core\n",
    "import tensorflow as tf\n",
    "from tensorflow import keras\n",
    "from keras import Model, layers\n",
    "print(\"TensorFlow version:\", tf.__version__)\n",
    "# from tensorflow.keras import datasets, layers, models\n",
    "# from tensorflow.keras.layers import Dense, Flatten, Conv2D\n",
    "import matplotlib.pyplot as plt\n",
    "import collections\n",
    "# TensorFlow version: 2.13.0"
   ]
  },
  {
   "cell_type": "code",
   "execution_count": 575,
   "metadata": {},
   "outputs": [],
   "source": [
    "# tf.config.list_physical_devices('GPU')\n",
    "from tensorflow.python.client import device_lib\n",
    "def get_available_device():\n",
    "    local_device_protos = device_lib.list_local_devices()\n",
    "    return [x.name for x in local_device_protos]"
   ]
  },
  {
   "cell_type": "code",
   "execution_count": 576,
   "metadata": {},
   "outputs": [
    {
     "name": "stdout",
     "output_type": "stream",
     "text": [
      "['/device:CPU:0', '/device:GPU:0']\n"
     ]
    }
   ],
   "source": [
    "print(get_available_device())"
   ]
  },
  {
   "cell_type": "markdown",
   "metadata": {},
   "source": [
    "# Configure video data"
   ]
  },
  {
   "cell_type": "code",
   "execution_count": 577,
   "metadata": {},
   "outputs": [],
   "source": [
    "path = './image dataset/'\n",
    "files = os.listdir(path)\n",
    "sub_num = 5\n",
    "files_head = [f for f in files if re.match(r'^sub' + str(sub_num) + '.*_1\\.jpg$', f)]"
   ]
  },
  {
   "cell_type": "code",
   "execution_count": 578,
   "metadata": {},
   "outputs": [],
   "source": [
    "def get_class(fname):\n",
    "  return fname.split('_')[1]"
   ]
  },
  {
   "cell_type": "code",
   "execution_count": 579,
   "metadata": {},
   "outputs": [],
   "source": [
    "def get_sub(fname):\n",
    "  return fname.split('_')[0]"
   ]
  },
  {
   "cell_type": "code",
   "execution_count": 580,
   "metadata": {},
   "outputs": [],
   "source": [
    "def integrate_video(fname):\n",
    "    img = Image.open('./image dataset/' + fname).convert('CMYK')\n",
    "    data = np.expand_dims(np.asarray(img), axis=0)\n",
    "    for i in range(1, 7):\n",
    "        fn = fname.replace('_1.jpg',f'_{i+1}.jpg')\n",
    "        img_ = Image.open('./image dataset/' + fn).convert('CMYK')\n",
    "        arr = np.expand_dims(np.asarray(img_), axis=0)\n",
    "        data = np.concatenate((data, arr), axis=0)  # shape: (frame_num, width, height, channel)\n",
    "    return data\n"
   ]
  },
  {
   "cell_type": "code",
   "execution_count": 581,
   "metadata": {},
   "outputs": [],
   "source": [
    "def save_video(files):\n",
    "    ds = []\n",
    "    sub_dict = []\n",
    "    class_dict = []\n",
    "    for f in files:\n",
    "        data = integrate_video(f)\n",
    "        sub = get_sub(f)\n",
    "        cls = get_class(f)\n",
    "        ds.append(data)\n",
    "        sub_dict.append(sub)\n",
    "        class_dict.append(cls)\n",
    "\n",
    "    return ds, sub_dict, class_dict"
   ]
  },
  {
   "cell_type": "code",
   "execution_count": 582,
   "metadata": {},
   "outputs": [],
   "source": [
    "data, sub_dict, class_dict = save_video(files_head)"
   ]
  },
  {
   "cell_type": "markdown",
   "metadata": {},
   "source": [
    "Load image: read as video frames (Tensorflow tutorial)"
   ]
  },
  {
   "cell_type": "code",
   "execution_count": 583,
   "metadata": {},
   "outputs": [],
   "source": [
    "# load data depends on class"
   ]
  },
  {
   "cell_type": "code",
   "execution_count": 584,
   "metadata": {},
   "outputs": [],
   "source": [
    "def get_files_per_class(files):\n",
    "  files_for_class = collections.defaultdict(list)\n",
    "  for fname in files:\n",
    "    class_name = get_class(fname)\n",
    "    files_for_class[class_name].append(fname)\n",
    "  return files_for_class"
   ]
  },
  {
   "cell_type": "code",
   "execution_count": 585,
   "metadata": {},
   "outputs": [],
   "source": [
    "files_for_class = get_files_per_class(files)\n",
    "classes = list(files_for_class.keys())"
   ]
  },
  {
   "cell_type": "code",
   "execution_count": 586,
   "metadata": {},
   "outputs": [
    {
     "name": "stdout",
     "output_type": "stream",
     "text": [
      "Num classes: 6\n",
      "Num videos for class[0]: 2205\n"
     ]
    }
   ],
   "source": [
    "print('Num classes:', len(classes))\n",
    "print('Num videos for class[0]:', len(files_for_class[classes[0]]))"
   ]
  },
  {
   "cell_type": "code",
   "execution_count": 587,
   "metadata": {},
   "outputs": [],
   "source": [
    "def select_subset_of_classes(files_for_class, classes, files_per_class):\n",
    "  \"\"\" \n",
    "    Use for 3-class/in-subclass comparison\n",
    "  \"\"\"\n",
    "  files_subset = dict()\n",
    "\n",
    "  for class_name in classes:\n",
    "    class_files = files_for_class[class_name]\n",
    "    files_subset[class_name] = class_files[:files_per_class]\n",
    "\n",
    "  return files_subset"
   ]
  },
  {
   "cell_type": "code",
   "execution_count": 588,
   "metadata": {},
   "outputs": [],
   "source": [
    "NUM_CLASSES = 2\n",
    "FILES_PER_CLASS = 90   # 270 trials for each sub, 45 trials for each class per sub, 315 trials for each class in general"
   ]
  },
  {
   "cell_type": "code",
   "execution_count": 589,
   "metadata": {},
   "outputs": [
    {
     "data": {
      "text/plain": [
       "['back', 'down']"
      ]
     },
     "execution_count": 589,
     "metadata": {},
     "output_type": "execute_result"
    }
   ],
   "source": [
    "files_subset = select_subset_of_classes(files_for_class, classes[:NUM_CLASSES], FILES_PER_CLASS)\n",
    "list(files_subset.keys())"
   ]
  },
  {
   "cell_type": "code",
   "execution_count": 590,
   "metadata": {},
   "outputs": [],
   "source": [
    "# load data depends on subject and class"
   ]
  },
  {
   "cell_type": "code",
   "execution_count": 591,
   "metadata": {},
   "outputs": [],
   "source": [
    "def get_files_per_sub_per_class(files):\n",
    "  files_for_sub_for_class = collections.defaultdict(list)\n",
    "  for fname in files:\n",
    "    class_name = get_class(fname)\n",
    "    sub_num = get_sub(fname)\n",
    "    files_for_sub_for_class[(sub_num, class_name)].append(fname)\n",
    "  return files_for_sub_for_class"
   ]
  },
  {
   "cell_type": "code",
   "execution_count": 592,
   "metadata": {},
   "outputs": [],
   "source": [
    "files_for_sub_for_class = get_files_per_sub_per_class(files)\n",
    "classes_2stage = list(files_for_sub_for_class.keys())"
   ]
  },
  {
   "cell_type": "code",
   "execution_count": 593,
   "metadata": {},
   "outputs": [
    {
     "name": "stdout",
     "output_type": "stream",
     "text": [
      "Num classes: 42\n",
      "Num videos for class[0]: 315\n"
     ]
    }
   ],
   "source": [
    "print('Num classes:', len(classes_2stage))\n",
    "print('Num videos for class[0]:', len(files_for_sub_for_class[classes_2stage[0]]))"
   ]
  },
  {
   "cell_type": "markdown",
   "metadata": {},
   "source": [
    "select random train/test dataset"
   ]
  },
  {
   "cell_type": "code",
   "execution_count": 594,
   "metadata": {},
   "outputs": [],
   "source": [
    "trial_dict = {'front':0, 'back':1, 'left':2, 'right':3, 'up':4, 'down':5}\n",
    "label = [trial_dict[x] for x in class_dict]"
   ]
  },
  {
   "cell_type": "code",
   "execution_count": 595,
   "metadata": {},
   "outputs": [],
   "source": [
    "x_train, x_test, y_train, y_test = train_test_split(data, label, test_size=0.33, random_state=42)"
   ]
  },
  {
   "cell_type": "code",
   "execution_count": 596,
   "metadata": {},
   "outputs": [],
   "source": [
    "# np.shape(x_train)"
   ]
  },
  {
   "cell_type": "code",
   "execution_count": 597,
   "metadata": {},
   "outputs": [],
   "source": [
    "x_train = [tf.convert_to_tensor(item) for item in x_train]\n",
    "x_test = [tf.convert_to_tensor(item) for item in x_test]\n",
    "y_train = [tf.convert_to_tensor(item) for item in y_train]\n",
    "y_test = [tf.convert_to_tensor(item) for item in y_test]"
   ]
  },
  {
   "cell_type": "code",
   "execution_count": 598,
   "metadata": {},
   "outputs": [],
   "source": [
    "train_ds = tf.data.Dataset.from_tensor_slices((x_train, y_train))\n",
    "test_ds = tf.data.Dataset.from_tensor_slices((x_test, y_test))"
   ]
  },
  {
   "cell_type": "code",
   "execution_count": 599,
   "metadata": {},
   "outputs": [],
   "source": [
    "batch_size = 8\n",
    "train_ds = train_ds.batch(batch_size)\n",
    "test_ds = test_ds.batch(batch_size)"
   ]
  },
  {
   "cell_type": "code",
   "execution_count": 600,
   "metadata": {},
   "outputs": [],
   "source": [
    "test_batches = tf.data.experimental.cardinality(test_ds) # return the num of test batches\n",
    "val_ds = test_ds.take(test_batches//3)\n",
    "test_ds = test_ds.skip(test_batches//3)"
   ]
  },
  {
   "cell_type": "markdown",
   "metadata": {},
   "source": [
    "# CNN Model"
   ]
  },
  {
   "cell_type": "code",
   "execution_count": 601,
   "metadata": {},
   "outputs": [],
   "source": [
    "HEIGHT = 369\n",
    "WIDTH = 433"
   ]
  },
  {
   "cell_type": "code",
   "execution_count": 602,
   "metadata": {},
   "outputs": [],
   "source": [
    "class Conv2Plus1D(keras.layers.Layer):\n",
    "  def __init__(self, filters, kernel_size, padding):\n",
    "    \"\"\"\n",
    "      A sequence of convolutional layers that first apply the convolution operation over the\n",
    "      spatial dimensions, and then the temporal dimension. \n",
    "    \"\"\"\n",
    "    super().__init__()\n",
    "    self.seq = keras.Sequential([  \n",
    "        # Spatial decomposition\n",
    "        layers.Conv3D(filters=filters,\n",
    "                      kernel_size=(1, kernel_size[1], kernel_size[2]),\n",
    "                      padding=padding),\n",
    "        # Temporal decomposition\n",
    "        layers.Conv3D(filters=filters, \n",
    "                      kernel_size=(kernel_size[0], 1, 1),\n",
    "                      padding=padding)\n",
    "        ])\n",
    "  \n",
    "  def call(self, x):\n",
    "    return self.seq(x)"
   ]
  },
  {
   "cell_type": "code",
   "execution_count": 603,
   "metadata": {},
   "outputs": [],
   "source": [
    "class ResidualMain(keras.layers.Layer):\n",
    "  \"\"\"\n",
    "    Residual block of the model with convolution, layer normalization, and the\n",
    "    activation function, ReLU.\n",
    "  \"\"\"\n",
    "  def __init__(self, filters, kernel_size):\n",
    "    super().__init__()\n",
    "    self.seq = keras.Sequential([\n",
    "        Conv2Plus1D(filters=filters,\n",
    "                    kernel_size=kernel_size,\n",
    "                    padding='same'),\n",
    "        layers.LayerNormalization(),\n",
    "        layers.ReLU(),\n",
    "        Conv2Plus1D(filters=filters, \n",
    "                    kernel_size=kernel_size,\n",
    "                    padding='same'),\n",
    "        layers.LayerNormalization()\n",
    "    ])\n",
    "    \n",
    "  def call(self, x):\n",
    "    return self.seq(x)"
   ]
  },
  {
   "cell_type": "code",
   "execution_count": 604,
   "metadata": {},
   "outputs": [],
   "source": [
    "class Project(keras.layers.Layer):\n",
    "  \"\"\"\n",
    "    Project certain dimensions of the tensor as the data is passed through different \n",
    "    sized filters and downsampled. \n",
    "  \"\"\"\n",
    "  def __init__(self, units):\n",
    "    super().__init__()\n",
    "    self.seq = keras.Sequential([\n",
    "        layers.Dense(units),\n",
    "        layers.LayerNormalization()\n",
    "    ])\n",
    "\n",
    "  def call(self, x):\n",
    "    return self.seq(x)"
   ]
  },
  {
   "cell_type": "code",
   "execution_count": 605,
   "metadata": {},
   "outputs": [],
   "source": [
    "def add_residual_block(input, filters, kernel_size):\n",
    "  \"\"\"\n",
    "    Add residual blocks to the model. If the last dimensions of the input data\n",
    "    and filter size does not match, project it such that last dimension matches.\n",
    "  \"\"\"\n",
    "  out = ResidualMain(filters, \n",
    "                     kernel_size)(input)\n",
    "  \n",
    "  res = input\n",
    "  # Using the Keras functional APIs, project the last dimension of the tensor to\n",
    "  # match the new filter size\n",
    "  if out.shape[-1] != input.shape[-1]:\n",
    "    res = Project(out.shape[-1])(res)\n",
    "\n",
    "  return layers.add([res, out])"
   ]
  },
  {
   "cell_type": "code",
   "execution_count": 606,
   "metadata": {},
   "outputs": [],
   "source": [
    "class ResizeVideo(keras.layers.Layer):\n",
    "  def __init__(self, height, width):\n",
    "    super().__init__()\n",
    "    self.height = height\n",
    "    self.width = width\n",
    "    self.resizing_layer = tf.keras.layers.experimental.preprocessing.Resizing(self.height, self.width)\n",
    "\n",
    "  def call(self, video):\n",
    "    \"\"\"\n",
    "      Use the einops library to resize the tensor.  \n",
    "      \n",
    "      Args:\n",
    "        video: Tensor representation of the video, in the form of a set of frames.\n",
    "      \n",
    "      Return:\n",
    "        A downsampled size of the video according to the new height and width it should be resized to.\n",
    "    \"\"\"\n",
    "    # b stands for batch size, t stands for time, h stands for height, \n",
    "    # w stands for width, and c stands for the number of channels.\n",
    "    old_shape = einops.parse_shape(video, 'b t h w c')\n",
    "    images = einops.rearrange(video, 'b t h w c -> (b t) h w c')\n",
    "    images = self.resizing_layer(images)\n",
    "    videos = einops.rearrange(\n",
    "        images, '(b t) h w c -> b t h w c',\n",
    "        t = old_shape['t'])\n",
    "    return videos"
   ]
  },
  {
   "cell_type": "code",
   "execution_count": 607,
   "metadata": {},
   "outputs": [],
   "source": [
    "input_shape = (None, 7, HEIGHT, WIDTH, 4)\n",
    "input = layers.Input(shape=(input_shape[1:]))\n",
    "x = input\n",
    "\n",
    "x = Conv2Plus1D(filters=16, kernel_size=(3, 7, 7), padding='same')(x)\n",
    "x = layers.BatchNormalization()(x)\n",
    "x = layers.ReLU()(x)\n",
    "x = ResizeVideo(HEIGHT // 2, WIDTH // 2)(x)\n",
    "\n",
    "# Block 1\n",
    "x = add_residual_block(x, 16, (3, 3, 3))\n",
    "x = ResizeVideo(HEIGHT // 4, WIDTH // 4)(x)\n",
    "\n",
    "# Block 2\n",
    "x = add_residual_block(x, 32, (3, 3, 3))\n",
    "x = ResizeVideo(HEIGHT // 8, WIDTH // 8)(x)\n",
    "\n",
    "# Block 3\n",
    "x = add_residual_block(x, 64, (3, 3, 3))\n",
    "x = ResizeVideo(HEIGHT // 16, WIDTH // 16)(x)\n",
    "\n",
    "# Block 4\n",
    "x = add_residual_block(x, 128, (3, 3, 3))\n",
    "\n",
    "x = layers.GlobalAveragePooling3D()(x)\n",
    "x = layers.Flatten()(x)\n",
    "x = layers.Dense(6)(x)\n",
    "\n",
    "model = keras.Model(input, x)"
   ]
  },
  {
   "cell_type": "code",
   "execution_count": 608,
   "metadata": {},
   "outputs": [],
   "source": [
    "frames, label = next(iter(train_ds))\n",
    "model.build(frames)"
   ]
  },
  {
   "cell_type": "code",
   "execution_count": 609,
   "metadata": {},
   "outputs": [
    {
     "name": "stdout",
     "output_type": "stream",
     "text": [
      "Model: \"model_12\"\n",
      "__________________________________________________________________________________________________\n",
      "Layer (type)                    Output Shape         Param #     Connected to                     \n",
      "==================================================================================================\n",
      "input_13 (InputLayer)           [(None, 7, 369, 433, 0                                            \n",
      "__________________________________________________________________________________________________\n",
      "conv2_plus1d_108 (Conv2Plus1D)  (None, 7, 369, 433,  3936        input_13[0][0]                   \n",
      "__________________________________________________________________________________________________\n",
      "batch_normalization_12 (BatchNo (None, 7, 369, 433,  64          conv2_plus1d_108[0][0]           \n",
      "__________________________________________________________________________________________________\n",
      "re_lu_60 (ReLU)                 (None, 7, 369, 433,  0           batch_normalization_12[0][0]     \n",
      "__________________________________________________________________________________________________\n",
      "resize_video_48 (ResizeVideo)   (None, 7, 184, 216,  0           re_lu_60[0][0]                   \n",
      "__________________________________________________________________________________________________\n",
      "residual_main_48 (ResidualMain) (None, 7, 184, 216,  6272        resize_video_48[0][0]            \n",
      "__________________________________________________________________________________________________\n",
      "add_48 (Add)                    (None, 7, 184, 216,  0           resize_video_48[0][0]            \n",
      "                                                                 residual_main_48[0][0]           \n",
      "__________________________________________________________________________________________________\n",
      "resize_video_49 (ResizeVideo)   (None, 7, 92, 108, 1 0           add_48[0][0]                     \n",
      "__________________________________________________________________________________________________\n",
      "project_36 (Project)            (None, 7, 92, 108, 3 608         resize_video_49[0][0]            \n",
      "__________________________________________________________________________________________________\n",
      "residual_main_49 (ResidualMain) (None, 7, 92, 108, 3 20224       resize_video_49[0][0]            \n",
      "__________________________________________________________________________________________________\n",
      "add_49 (Add)                    (None, 7, 92, 108, 3 0           project_36[0][0]                 \n",
      "                                                                 residual_main_49[0][0]           \n",
      "__________________________________________________________________________________________________\n",
      "resize_video_50 (ResizeVideo)   (None, 7, 46, 54, 32 0           add_49[0][0]                     \n",
      "__________________________________________________________________________________________________\n",
      "project_37 (Project)            (None, 7, 46, 54, 64 2240        resize_video_50[0][0]            \n",
      "__________________________________________________________________________________________________\n",
      "residual_main_50 (ResidualMain) (None, 7, 46, 54, 64 80384       resize_video_50[0][0]            \n",
      "__________________________________________________________________________________________________\n",
      "add_50 (Add)                    (None, 7, 46, 54, 64 0           project_37[0][0]                 \n",
      "                                                                 residual_main_50[0][0]           \n",
      "__________________________________________________________________________________________________\n",
      "resize_video_51 (ResizeVideo)   (None, 7, 23, 27, 64 0           add_50[0][0]                     \n",
      "__________________________________________________________________________________________________\n",
      "project_38 (Project)            (None, 7, 23, 27, 12 8576        resize_video_51[0][0]            \n",
      "__________________________________________________________________________________________________\n",
      "residual_main_51 (ResidualMain) (None, 7, 23, 27, 12 320512      resize_video_51[0][0]            \n",
      "__________________________________________________________________________________________________\n",
      "add_51 (Add)                    (None, 7, 23, 27, 12 0           project_38[0][0]                 \n",
      "                                                                 residual_main_51[0][0]           \n",
      "__________________________________________________________________________________________________\n",
      "global_average_pooling3d_12 (Gl (None, 128)          0           add_51[0][0]                     \n",
      "__________________________________________________________________________________________________\n",
      "flatten_12 (Flatten)            (None, 128)          0           global_average_pooling3d_12[0][0]\n",
      "__________________________________________________________________________________________________\n",
      "dense_51 (Dense)                (None, 6)            774         flatten_12[0][0]                 \n",
      "==================================================================================================\n",
      "Total params: 443,590\n",
      "Trainable params: 443,558\n",
      "Non-trainable params: 32\n",
      "__________________________________________________________________________________________________\n"
     ]
    }
   ],
   "source": [
    "model.summary()"
   ]
  },
  {
   "cell_type": "code",
   "execution_count": 610,
   "metadata": {},
   "outputs": [],
   "source": [
    "model.compile(loss = keras.losses.SparseCategoricalCrossentropy(from_logits=True), \n",
    "              optimizer = keras.optimizers.Adam(learning_rate = 0.0001), \n",
    "              metrics = ['accuracy'])"
   ]
  },
  {
   "cell_type": "code",
   "execution_count": 611,
   "metadata": {},
   "outputs": [],
   "source": [
    "checkpoint_path = \"./sub5_training_1/cp.ckpt\"\n",
    "checkpoint_dir = os.path.dirname(checkpoint_path)"
   ]
  },
  {
   "cell_type": "code",
   "execution_count": 612,
   "metadata": {},
   "outputs": [],
   "source": [
    "cp_callback = tf.keras.callbacks.ModelCheckpoint(filepath=checkpoint_path,\n",
    "                                                 save_weights_only=True, # save the entire model or weights only\n",
    "                                                 verbose=1,\n",
    "                                                 monitor='val_accuracy',\n",
    "                                                 mode='max',  # max for acc, min for loss\n",
    "                                                 save_best_only=True)"
   ]
  },
  {
   "cell_type": "code",
   "execution_count": 613,
   "metadata": {},
   "outputs": [
    {
     "name": "stdout",
     "output_type": "stream",
     "text": [
      "Epoch 1/60\n",
      "23/23 [==============================] - 17s 575ms/step - loss: 1.9553 - accuracy: 0.2000 - val_loss: 1.9576 - val_accuracy: 0.1875\n",
      "\n",
      "Epoch 00001: val_accuracy improved from -inf to 0.18750, saving model to ./sub5_training_1\\cp.ckpt\n",
      "Epoch 2/60\n",
      "23/23 [==============================] - 12s 539ms/step - loss: 1.8220 - accuracy: 0.2611 - val_loss: 1.8502 - val_accuracy: 0.1875\n",
      "\n",
      "Epoch 00002: val_accuracy did not improve from 0.18750\n",
      "Epoch 3/60\n",
      "23/23 [==============================] - 12s 535ms/step - loss: 1.9173 - accuracy: 0.2111 - val_loss: 1.7938 - val_accuracy: 0.1562\n",
      "\n",
      "Epoch 00003: val_accuracy did not improve from 0.18750\n",
      "Epoch 4/60\n",
      "23/23 [==============================] - 12s 535ms/step - loss: 1.9245 - accuracy: 0.2167 - val_loss: 1.8138 - val_accuracy: 0.2188\n",
      "\n",
      "Epoch 00004: val_accuracy improved from 0.18750 to 0.21875, saving model to ./sub5_training_1\\cp.ckpt\n",
      "Epoch 5/60\n",
      "23/23 [==============================] - 12s 536ms/step - loss: 1.8757 - accuracy: 0.2000 - val_loss: 1.7982 - val_accuracy: 0.3125\n",
      "\n",
      "Epoch 00005: val_accuracy improved from 0.21875 to 0.31250, saving model to ./sub5_training_1\\cp.ckpt\n",
      "Epoch 6/60\n",
      "23/23 [==============================] - 12s 536ms/step - loss: 1.8105 - accuracy: 0.2222 - val_loss: 1.7967 - val_accuracy: 0.2500\n",
      "\n",
      "Epoch 00006: val_accuracy did not improve from 0.31250\n",
      "Epoch 7/60\n",
      "23/23 [==============================] - 12s 537ms/step - loss: 1.7681 - accuracy: 0.2500 - val_loss: 1.7868 - val_accuracy: 0.2188\n",
      "\n",
      "Epoch 00007: val_accuracy did not improve from 0.31250\n",
      "Epoch 8/60\n",
      "23/23 [==============================] - 12s 537ms/step - loss: 1.7334 - accuracy: 0.2611 - val_loss: 1.7818 - val_accuracy: 0.2188\n",
      "\n",
      "Epoch 00008: val_accuracy did not improve from 0.31250\n",
      "Epoch 9/60\n",
      "23/23 [==============================] - 12s 535ms/step - loss: 1.7007 - accuracy: 0.2889 - val_loss: 1.7770 - val_accuracy: 0.1875\n",
      "\n",
      "Epoch 00009: val_accuracy did not improve from 0.31250\n",
      "Epoch 10/60\n",
      "23/23 [==============================] - 12s 535ms/step - loss: 1.6738 - accuracy: 0.3056 - val_loss: 1.7737 - val_accuracy: 0.1875\n",
      "\n",
      "Epoch 00010: val_accuracy did not improve from 0.31250\n",
      "Epoch 11/60\n",
      "23/23 [==============================] - 12s 538ms/step - loss: 1.6507 - accuracy: 0.3111 - val_loss: 1.7728 - val_accuracy: 0.2188\n",
      "\n",
      "Epoch 00011: val_accuracy did not improve from 0.31250\n",
      "Epoch 12/60\n",
      "23/23 [==============================] - 12s 538ms/step - loss: 1.6267 - accuracy: 0.3278 - val_loss: 1.7745 - val_accuracy: 0.2500\n",
      "\n",
      "Epoch 00012: val_accuracy did not improve from 0.31250\n",
      "Epoch 13/60\n",
      "23/23 [==============================] - 12s 535ms/step - loss: 1.6027 - accuracy: 0.3333 - val_loss: 1.7791 - val_accuracy: 0.2812\n",
      "\n",
      "Epoch 00013: val_accuracy did not improve from 0.31250\n",
      "Epoch 14/60\n",
      "23/23 [==============================] - 12s 537ms/step - loss: 1.5782 - accuracy: 0.3389 - val_loss: 1.7879 - val_accuracy: 0.2812\n",
      "\n",
      "Epoch 00014: val_accuracy did not improve from 0.31250\n",
      "Epoch 15/60\n",
      "23/23 [==============================] - 12s 538ms/step - loss: 1.5527 - accuracy: 0.3556 - val_loss: 1.7984 - val_accuracy: 0.3125\n",
      "\n",
      "Epoch 00015: val_accuracy did not improve from 0.31250\n",
      "Epoch 16/60\n",
      "23/23 [==============================] - 12s 535ms/step - loss: 1.5260 - accuracy: 0.3944 - val_loss: 1.8128 - val_accuracy: 0.3125\n",
      "\n",
      "Epoch 00016: val_accuracy did not improve from 0.31250\n",
      "Epoch 17/60\n",
      "23/23 [==============================] - 12s 536ms/step - loss: 1.4985 - accuracy: 0.4000 - val_loss: 1.8304 - val_accuracy: 0.3125\n",
      "\n",
      "Epoch 00017: val_accuracy did not improve from 0.31250\n",
      "Epoch 18/60\n",
      "23/23 [==============================] - 12s 536ms/step - loss: 1.4690 - accuracy: 0.4111 - val_loss: 1.8503 - val_accuracy: 0.2812\n",
      "\n",
      "Epoch 00018: val_accuracy did not improve from 0.31250\n",
      "Epoch 19/60\n",
      "23/23 [==============================] - 12s 535ms/step - loss: 1.4380 - accuracy: 0.4333 - val_loss: 1.8693 - val_accuracy: 0.2812\n",
      "\n",
      "Epoch 00019: val_accuracy did not improve from 0.31250\n",
      "Epoch 20/60\n",
      "23/23 [==============================] - 12s 538ms/step - loss: 1.4046 - accuracy: 0.4667 - val_loss: 1.8873 - val_accuracy: 0.3125\n",
      "\n",
      "Epoch 00020: val_accuracy did not improve from 0.31250\n",
      "Epoch 21/60\n",
      "23/23 [==============================] - 12s 535ms/step - loss: 1.3696 - accuracy: 0.4889 - val_loss: 1.9137 - val_accuracy: 0.3125\n",
      "\n",
      "Epoch 00021: val_accuracy did not improve from 0.31250\n",
      "Epoch 22/60\n",
      "23/23 [==============================] - 12s 539ms/step - loss: 1.3325 - accuracy: 0.5056 - val_loss: 1.9447 - val_accuracy: 0.3438\n",
      "\n",
      "Epoch 00022: val_accuracy improved from 0.31250 to 0.34375, saving model to ./sub5_training_1\\cp.ckpt\n",
      "Epoch 23/60\n",
      "23/23 [==============================] - 12s 538ms/step - loss: 1.2948 - accuracy: 0.5278 - val_loss: 1.9676 - val_accuracy: 0.3125\n",
      "\n",
      "Epoch 00023: val_accuracy did not improve from 0.34375\n",
      "Epoch 24/60\n",
      "23/23 [==============================] - 12s 537ms/step - loss: 1.2542 - accuracy: 0.5333 - val_loss: 1.9824 - val_accuracy: 0.3438\n",
      "\n",
      "Epoch 00024: val_accuracy did not improve from 0.34375\n",
      "Epoch 25/60\n",
      "23/23 [==============================] - 12s 536ms/step - loss: 1.2103 - accuracy: 0.5722 - val_loss: 2.0013 - val_accuracy: 0.3125\n",
      "\n",
      "Epoch 00025: val_accuracy did not improve from 0.34375\n",
      "Epoch 26/60\n",
      "23/23 [==============================] - 12s 538ms/step - loss: 1.1645 - accuracy: 0.6111 - val_loss: 2.0176 - val_accuracy: 0.3438\n",
      "\n",
      "Epoch 00026: val_accuracy did not improve from 0.34375\n",
      "Epoch 27/60\n",
      "23/23 [==============================] - 12s 537ms/step - loss: 1.1169 - accuracy: 0.6444 - val_loss: 2.0390 - val_accuracy: 0.3438\n",
      "\n",
      "Epoch 00027: val_accuracy did not improve from 0.34375\n",
      "Epoch 28/60\n",
      "23/23 [==============================] - 12s 539ms/step - loss: 1.0692 - accuracy: 0.6556 - val_loss: 2.0626 - val_accuracy: 0.3438\n",
      "\n",
      "Epoch 00028: val_accuracy did not improve from 0.34375\n",
      "Epoch 29/60\n",
      "23/23 [==============================] - 12s 538ms/step - loss: 1.0211 - accuracy: 0.6722 - val_loss: 2.0952 - val_accuracy: 0.3125\n",
      "\n",
      "Epoch 00029: val_accuracy did not improve from 0.34375\n",
      "Epoch 30/60\n",
      "23/23 [==============================] - 12s 536ms/step - loss: 0.9724 - accuracy: 0.6944 - val_loss: 2.1238 - val_accuracy: 0.2812\n",
      "\n",
      "Epoch 00030: val_accuracy did not improve from 0.34375\n",
      "Epoch 31/60\n",
      "23/23 [==============================] - 12s 536ms/step - loss: 0.9238 - accuracy: 0.7056 - val_loss: 2.1476 - val_accuracy: 0.2812\n",
      "\n",
      "Epoch 00031: val_accuracy did not improve from 0.34375\n",
      "Epoch 32/60\n",
      "23/23 [==============================] - 12s 537ms/step - loss: 0.8765 - accuracy: 0.7389 - val_loss: 2.1660 - val_accuracy: 0.2812\n",
      "\n",
      "Epoch 00032: val_accuracy did not improve from 0.34375\n",
      "Epoch 33/60\n",
      "23/23 [==============================] - 12s 534ms/step - loss: 0.8318 - accuracy: 0.7444 - val_loss: 2.1770 - val_accuracy: 0.2812\n",
      "\n",
      "Epoch 00033: val_accuracy did not improve from 0.34375\n",
      "Epoch 34/60\n",
      "23/23 [==============================] - 12s 535ms/step - loss: 0.7923 - accuracy: 0.7722 - val_loss: 2.1723 - val_accuracy: 0.2500\n",
      "\n",
      "Epoch 00034: val_accuracy did not improve from 0.34375\n",
      "Epoch 35/60\n",
      "23/23 [==============================] - 12s 536ms/step - loss: 0.7606 - accuracy: 0.7889 - val_loss: 2.1480 - val_accuracy: 0.2812\n",
      "\n",
      "Epoch 00035: val_accuracy did not improve from 0.34375\n",
      "Epoch 36/60\n",
      "23/23 [==============================] - 12s 536ms/step - loss: 0.7350 - accuracy: 0.7778 - val_loss: 2.1401 - val_accuracy: 0.2812\n",
      "\n",
      "Epoch 00036: val_accuracy did not improve from 0.34375\n",
      "Epoch 37/60\n",
      "23/23 [==============================] - 12s 539ms/step - loss: 0.7298 - accuracy: 0.7722 - val_loss: 2.1791 - val_accuracy: 0.2812\n",
      "\n",
      "Epoch 00037: val_accuracy did not improve from 0.34375\n",
      "Epoch 38/60\n",
      "23/23 [==============================] - 12s 539ms/step - loss: 0.7838 - accuracy: 0.7167 - val_loss: 2.2864 - val_accuracy: 0.2812\n",
      "\n",
      "Epoch 00038: val_accuracy did not improve from 0.34375\n",
      "Epoch 39/60\n",
      "23/23 [==============================] - 12s 535ms/step - loss: 0.7913 - accuracy: 0.7167 - val_loss: 2.2627 - val_accuracy: 0.1875\n",
      "\n",
      "Epoch 00039: val_accuracy did not improve from 0.34375\n",
      "Epoch 40/60\n",
      "23/23 [==============================] - 12s 539ms/step - loss: 0.8502 - accuracy: 0.7000 - val_loss: 2.2224 - val_accuracy: 0.2188\n",
      "\n",
      "Epoch 00040: val_accuracy did not improve from 0.34375\n",
      "Epoch 41/60\n",
      "23/23 [==============================] - 12s 539ms/step - loss: 0.9505 - accuracy: 0.6778 - val_loss: 2.2567 - val_accuracy: 0.3125\n",
      "\n",
      "Epoch 00041: val_accuracy did not improve from 0.34375\n",
      "Epoch 42/60\n",
      "23/23 [==============================] - 12s 539ms/step - loss: 0.7344 - accuracy: 0.7667 - val_loss: 2.3397 - val_accuracy: 0.2812\n",
      "\n",
      "Epoch 00042: val_accuracy did not improve from 0.34375\n",
      "Epoch 43/60\n",
      "23/23 [==============================] - 12s 535ms/step - loss: 0.6643 - accuracy: 0.7889 - val_loss: 2.3799 - val_accuracy: 0.3125\n",
      "\n",
      "Epoch 00043: val_accuracy did not improve from 0.34375\n",
      "Epoch 44/60\n",
      "23/23 [==============================] - 12s 539ms/step - loss: 0.7027 - accuracy: 0.7944 - val_loss: 2.1581 - val_accuracy: 0.2188\n",
      "\n",
      "Epoch 00044: val_accuracy did not improve from 0.34375\n",
      "Epoch 45/60\n",
      "23/23 [==============================] - 12s 536ms/step - loss: 0.5535 - accuracy: 0.8444 - val_loss: 2.1828 - val_accuracy: 0.2188\n",
      "\n",
      "Epoch 00045: val_accuracy did not improve from 0.34375\n",
      "Epoch 46/60\n",
      "23/23 [==============================] - 12s 538ms/step - loss: 0.4624 - accuracy: 0.9111 - val_loss: 2.2271 - val_accuracy: 0.3125\n",
      "\n",
      "Epoch 00046: val_accuracy did not improve from 0.34375\n",
      "Epoch 47/60\n",
      "23/23 [==============================] - 12s 538ms/step - loss: 0.4515 - accuracy: 0.9000 - val_loss: 2.1749 - val_accuracy: 0.2812\n",
      "\n",
      "Epoch 00047: val_accuracy did not improve from 0.34375\n",
      "Epoch 48/60\n",
      "23/23 [==============================] - 12s 538ms/step - loss: 0.4060 - accuracy: 0.9444 - val_loss: 2.2225 - val_accuracy: 0.2812\n",
      "\n",
      "Epoch 00048: val_accuracy did not improve from 0.34375\n",
      "Epoch 49/60\n",
      "23/23 [==============================] - 12s 535ms/step - loss: 0.3663 - accuracy: 0.9500 - val_loss: 2.2427 - val_accuracy: 0.2812\n",
      "\n",
      "Epoch 00049: val_accuracy did not improve from 0.34375\n",
      "Epoch 50/60\n",
      "23/23 [==============================] - 12s 537ms/step - loss: 0.3553 - accuracy: 0.9444 - val_loss: 2.2656 - val_accuracy: 0.2812\n",
      "\n",
      "Epoch 00050: val_accuracy did not improve from 0.34375\n",
      "Epoch 51/60\n",
      "23/23 [==============================] - 12s 535ms/step - loss: 0.3451 - accuracy: 0.9444 - val_loss: 2.3119 - val_accuracy: 0.2812\n",
      "\n",
      "Epoch 00051: val_accuracy did not improve from 0.34375\n",
      "Epoch 52/60\n",
      "23/23 [==============================] - 12s 535ms/step - loss: 0.3501 - accuracy: 0.9500 - val_loss: 2.3677 - val_accuracy: 0.3125\n",
      "\n",
      "Epoch 00052: val_accuracy did not improve from 0.34375\n",
      "Epoch 53/60\n",
      "23/23 [==============================] - 12s 537ms/step - loss: 0.3644 - accuracy: 0.9278 - val_loss: 2.4775 - val_accuracy: 0.3125\n",
      "\n",
      "Epoch 00053: val_accuracy did not improve from 0.34375\n",
      "Epoch 54/60\n",
      "23/23 [==============================] - 12s 538ms/step - loss: 0.3843 - accuracy: 0.9167 - val_loss: 2.6126 - val_accuracy: 0.3125\n",
      "\n",
      "Epoch 00054: val_accuracy did not improve from 0.34375\n",
      "Epoch 55/60\n",
      "23/23 [==============================] - 12s 539ms/step - loss: 0.4066 - accuracy: 0.9000 - val_loss: 2.6987 - val_accuracy: 0.2812\n",
      "\n",
      "Epoch 00055: val_accuracy did not improve from 0.34375\n",
      "Epoch 56/60\n",
      "23/23 [==============================] - 12s 541ms/step - loss: 0.4438 - accuracy: 0.8722 - val_loss: 2.7020 - val_accuracy: 0.3125\n",
      "\n",
      "Epoch 00056: val_accuracy did not improve from 0.34375\n",
      "Epoch 57/60\n",
      "23/23 [==============================] - 12s 541ms/step - loss: 0.5223 - accuracy: 0.8389 - val_loss: 2.8126 - val_accuracy: 0.2500\n",
      "\n",
      "Epoch 00057: val_accuracy did not improve from 0.34375\n",
      "Epoch 58/60\n",
      "23/23 [==============================] - 12s 535ms/step - loss: 0.6353 - accuracy: 0.7778 - val_loss: 3.2367 - val_accuracy: 0.2812\n",
      "\n",
      "Epoch 00058: val_accuracy did not improve from 0.34375\n",
      "Epoch 59/60\n",
      "23/23 [==============================] - 12s 538ms/step - loss: 0.6818 - accuracy: 0.7278 - val_loss: 2.8411 - val_accuracy: 0.3125\n",
      "\n",
      "Epoch 00059: val_accuracy did not improve from 0.34375\n",
      "Epoch 60/60\n",
      "23/23 [==============================] - 12s 535ms/step - loss: 0.5848 - accuracy: 0.7778 - val_loss: 3.2804 - val_accuracy: 0.3438\n",
      "\n",
      "Epoch 00060: val_accuracy did not improve from 0.34375\n"
     ]
    }
   ],
   "source": [
    "# print('hi')\n",
    "history = model.fit(x = train_ds,\n",
    "                    epochs = 60,\n",
    "                    validation_data = val_ds,\n",
    "                    callbacks=[cp_callback])"
   ]
  },
  {
   "cell_type": "markdown",
   "metadata": {},
   "source": [
    "if the training is interrupted"
   ]
  },
  {
   "cell_type": "code",
   "execution_count": 614,
   "metadata": {},
   "outputs": [],
   "source": [
    "# # if the training is interrupted\n",
    "# model.load_weights('./sub5_training_0/cp.ckpt')\n",
    "# # model.load_weights(checkpoint_path)\n",
    "# history = model.fit(x = train_ds,\n",
    "#                     epochs = 30, \n",
    "#                     validation_data = val_ds,\n",
    "#                     callbacks=[cp_callback])"
   ]
  },
  {
   "cell_type": "code",
   "execution_count": 615,
   "metadata": {},
   "outputs": [],
   "source": [
    "# train acc: 93.89%; val acc: 28.125%; test acc: 18.9%   # sub1 train0\n",
    "# train acc: 81.11%; val acc: 31.250%; test acc: 18.966%  # sub1 train1\n",
    "# train acc: 91.11%; val acc: 31.250%; test acc: 22.41% # sub1 train2\n",
    "# train acc: 91.67%; val acc: 31.250%;\n",
    "# need to be at least 30% to have statistical meanings\n",
    "\n",
    "# train acc: 74.44%; val acc:56.25%; test acc: 36.21% # sub2 train0\n",
    "# train acc: 67.22%; val acc:34.38%; test acc: 39.66% # sub2 train1\n",
    "# train acc: 67.78%; val acc:40.63%; test acc: 39.66% # sub2 train2-1\n",
    "# train acc: 64.44%; val acc: 43.75%; test acc: 37.93% # sub2 train3\n",
    "# train acc: 84.44%; val acc: 46.875%; test acc: 39.66% # sub2 train4\n",
    "\n",
    "# train acc: 65.00%; val acc: 23.33%; test acc: 20.00% # sub3 train00\n",
    "\n",
    "# train acc: 61.11%; val acc: 25.00%; test acc: 20.69% # sub4 train0\n",
    "# train acc: 52.78%; val acc: 28.125%; test acc: 22,41% # sub4 train0-1\n",
    "# train acc: 61.45%; val acc: 28.125%; test acc: 29.31% # sub4 train1\n",
    "# train acc: 70.00%; val acc: 34.375%; test acc: 36.21% # sub4 train3\n",
    "\n",
    "# train acc: 49.44%; val acc: 34.375%; test acc: 20.69% # sub5 train0\n",
    "\n",
    "# train acc: 93.33%; val acc: 28.125%; test acc: 20.69% # sub6 train0"
   ]
  },
  {
   "cell_type": "code",
   "execution_count": 616,
   "metadata": {},
   "outputs": [
    {
     "name": "stdout",
     "output_type": "stream",
     "text": [
      "8/8 [==============================] - 2s 196ms/step - loss: 2.3928 - accuracy: 0.1379\n"
     ]
    },
    {
     "data": {
      "text/plain": [
       "{'loss': 2.392784595489502, 'accuracy': 0.13793103396892548}"
      ]
     },
     "execution_count": 616,
     "metadata": {},
     "output_type": "execute_result"
    }
   ],
   "source": [
    "model.load_weights('./sub5_training_1/cp.ckpt')\n",
    "model.evaluate(test_ds, return_dict=True)"
   ]
  },
  {
   "cell_type": "code",
   "execution_count": 617,
   "metadata": {},
   "outputs": [],
   "source": [
    "checkpoint_path = \"./sub5_training_1_1/cp.ckpt\"\n",
    "checkpoint_dir = os.path.dirname(checkpoint_path)"
   ]
  },
  {
   "cell_type": "code",
   "execution_count": 618,
   "metadata": {},
   "outputs": [],
   "source": [
    "cp_callback = tf.keras.callbacks.ModelCheckpoint(filepath=checkpoint_path,\n",
    "                                                 save_weights_only=True, # save the entire model or weights only\n",
    "                                                 verbose=1,\n",
    "                                                 monitor='val_accuracy',\n",
    "                                                 mode='max',  # max for acc, min for loss\n",
    "                                                 save_best_only=True)"
   ]
  },
  {
   "cell_type": "code",
   "execution_count": 619,
   "metadata": {},
   "outputs": [
    {
     "name": "stdout",
     "output_type": "stream",
     "text": [
      "Epoch 1/30\n",
      "23/23 [==============================] - 12s 539ms/step - loss: 1.2948 - accuracy: 0.5278 - val_loss: 1.9677 - val_accuracy: 0.3125\n",
      "\n",
      "Epoch 00001: val_accuracy improved from -inf to 0.31250, saving model to ./sub5_training_1_1\\cp.ckpt\n",
      "Epoch 2/30\n",
      "23/23 [==============================] - 12s 539ms/step - loss: 1.2542 - accuracy: 0.5333 - val_loss: 1.9823 - val_accuracy: 0.3438\n",
      "\n",
      "Epoch 00002: val_accuracy improved from 0.31250 to 0.34375, saving model to ./sub5_training_1_1\\cp.ckpt\n",
      "Epoch 3/30\n",
      "23/23 [==============================] - 12s 537ms/step - loss: 1.2103 - accuracy: 0.5722 - val_loss: 2.0012 - val_accuracy: 0.3125\n",
      "\n",
      "Epoch 00003: val_accuracy did not improve from 0.34375\n",
      "Epoch 4/30\n",
      "23/23 [==============================] - 12s 535ms/step - loss: 1.1644 - accuracy: 0.6111 - val_loss: 2.0174 - val_accuracy: 0.3438\n",
      "\n",
      "Epoch 00004: val_accuracy did not improve from 0.34375\n",
      "Epoch 5/30\n",
      "23/23 [==============================] - 12s 537ms/step - loss: 1.1169 - accuracy: 0.6444 - val_loss: 2.0388 - val_accuracy: 0.3438\n",
      "\n",
      "Epoch 00005: val_accuracy did not improve from 0.34375\n",
      "Epoch 6/30\n",
      "23/23 [==============================] - 12s 537ms/step - loss: 1.0692 - accuracy: 0.6556 - val_loss: 2.0634 - val_accuracy: 0.3125\n",
      "\n",
      "Epoch 00006: val_accuracy did not improve from 0.34375\n",
      "Epoch 7/30\n",
      "23/23 [==============================] - 12s 535ms/step - loss: 1.0211 - accuracy: 0.6722 - val_loss: 2.0946 - val_accuracy: 0.3125\n",
      "\n",
      "Epoch 00007: val_accuracy did not improve from 0.34375\n",
      "Epoch 8/30\n",
      "23/23 [==============================] - 12s 535ms/step - loss: 0.9724 - accuracy: 0.6944 - val_loss: 2.1238 - val_accuracy: 0.2812\n",
      "\n",
      "Epoch 00008: val_accuracy did not improve from 0.34375\n",
      "Epoch 9/30\n",
      "23/23 [==============================] - 12s 538ms/step - loss: 0.9239 - accuracy: 0.7056 - val_loss: 2.1475 - val_accuracy: 0.2812\n",
      "\n",
      "Epoch 00009: val_accuracy did not improve from 0.34375\n",
      "Epoch 10/30\n",
      "23/23 [==============================] - 12s 535ms/step - loss: 0.8766 - accuracy: 0.7389 - val_loss: 2.1657 - val_accuracy: 0.2812\n",
      "\n",
      "Epoch 00010: val_accuracy did not improve from 0.34375\n",
      "Epoch 11/30\n",
      "23/23 [==============================] - 12s 539ms/step - loss: 0.8318 - accuracy: 0.7444 - val_loss: 2.1768 - val_accuracy: 0.2812\n",
      "\n",
      "Epoch 00011: val_accuracy did not improve from 0.34375\n",
      "Epoch 12/30\n",
      "23/23 [==============================] - 12s 535ms/step - loss: 0.7922 - accuracy: 0.7722 - val_loss: 2.1723 - val_accuracy: 0.2500\n",
      "\n",
      "Epoch 00012: val_accuracy did not improve from 0.34375\n",
      "Epoch 13/30\n",
      "23/23 [==============================] - 12s 535ms/step - loss: 0.7605 - accuracy: 0.7889 - val_loss: 2.1480 - val_accuracy: 0.2812\n",
      "\n",
      "Epoch 00013: val_accuracy did not improve from 0.34375\n",
      "Epoch 14/30\n",
      "23/23 [==============================] - 12s 536ms/step - loss: 0.7349 - accuracy: 0.7833 - val_loss: 2.1400 - val_accuracy: 0.2812\n",
      "\n",
      "Epoch 00014: val_accuracy did not improve from 0.34375\n",
      "Epoch 15/30\n",
      "23/23 [==============================] - 12s 538ms/step - loss: 0.7295 - accuracy: 0.7722 - val_loss: 2.1787 - val_accuracy: 0.2812\n",
      "\n",
      "Epoch 00015: val_accuracy did not improve from 0.34375\n",
      "Epoch 16/30\n",
      "23/23 [==============================] - 12s 539ms/step - loss: 0.7834 - accuracy: 0.7222 - val_loss: 2.2904 - val_accuracy: 0.2812\n",
      "\n",
      "Epoch 00016: val_accuracy did not improve from 0.34375\n",
      "Epoch 17/30\n",
      "23/23 [==============================] - 12s 535ms/step - loss: 0.7907 - accuracy: 0.7167 - val_loss: 2.2629 - val_accuracy: 0.1875\n",
      "\n",
      "Epoch 00017: val_accuracy did not improve from 0.34375\n",
      "Epoch 18/30\n",
      "23/23 [==============================] - 12s 535ms/step - loss: 0.8486 - accuracy: 0.7056 - val_loss: 2.2201 - val_accuracy: 0.2188\n",
      "\n",
      "Epoch 00018: val_accuracy did not improve from 0.34375\n",
      "Epoch 19/30\n",
      "23/23 [==============================] - 12s 535ms/step - loss: 0.9486 - accuracy: 0.6778 - val_loss: 2.2592 - val_accuracy: 0.3125\n",
      "\n",
      "Epoch 00019: val_accuracy did not improve from 0.34375\n",
      "Epoch 20/30\n",
      "23/23 [==============================] - 12s 536ms/step - loss: 0.7343 - accuracy: 0.7667 - val_loss: 2.3409 - val_accuracy: 0.2812\n",
      "\n",
      "Epoch 00020: val_accuracy did not improve from 0.34375\n",
      "Epoch 21/30\n",
      "23/23 [==============================] - 12s 535ms/step - loss: 0.6655 - accuracy: 0.7889 - val_loss: 2.3857 - val_accuracy: 0.3125\n",
      "\n",
      "Epoch 00021: val_accuracy did not improve from 0.34375\n",
      "Epoch 22/30\n",
      "23/23 [==============================] - 12s 537ms/step - loss: 0.7049 - accuracy: 0.7944 - val_loss: 2.1584 - val_accuracy: 0.2188\n",
      "\n",
      "Epoch 00022: val_accuracy did not improve from 0.34375\n",
      "Epoch 23/30\n",
      "23/23 [==============================] - 12s 536ms/step - loss: 0.5509 - accuracy: 0.8500 - val_loss: 2.1820 - val_accuracy: 0.2188\n",
      "\n",
      "Epoch 00023: val_accuracy did not improve from 0.34375\n",
      "Epoch 24/30\n",
      "23/23 [==============================] - 12s 536ms/step - loss: 0.4629 - accuracy: 0.9167 - val_loss: 2.2246 - val_accuracy: 0.3125\n",
      "\n",
      "Epoch 00024: val_accuracy did not improve from 0.34375\n",
      "Epoch 25/30\n",
      "23/23 [==============================] - 12s 535ms/step - loss: 0.4499 - accuracy: 0.9111 - val_loss: 2.1765 - val_accuracy: 0.2812\n",
      "\n",
      "Epoch 00025: val_accuracy did not improve from 0.34375\n",
      "Epoch 26/30\n",
      "23/23 [==============================] - 12s 538ms/step - loss: 0.4056 - accuracy: 0.9444 - val_loss: 2.2236 - val_accuracy: 0.2812\n",
      "\n",
      "Epoch 00026: val_accuracy did not improve from 0.34375\n",
      "Epoch 27/30\n",
      "23/23 [==============================] - 12s 538ms/step - loss: 0.3660 - accuracy: 0.9500 - val_loss: 2.2434 - val_accuracy: 0.2812\n",
      "\n",
      "Epoch 00027: val_accuracy did not improve from 0.34375\n",
      "Epoch 28/30\n",
      "23/23 [==============================] - 12s 535ms/step - loss: 0.3540 - accuracy: 0.9444 - val_loss: 2.2679 - val_accuracy: 0.2812\n",
      "\n",
      "Epoch 00028: val_accuracy did not improve from 0.34375\n",
      "Epoch 29/30\n",
      "23/23 [==============================] - 12s 540ms/step - loss: 0.3437 - accuracy: 0.9444 - val_loss: 2.3121 - val_accuracy: 0.2812\n",
      "\n",
      "Epoch 00029: val_accuracy did not improve from 0.34375\n",
      "Epoch 30/30\n",
      "23/23 [==============================] - 12s 535ms/step - loss: 0.3474 - accuracy: 0.9500 - val_loss: 2.3647 - val_accuracy: 0.3125\n",
      "\n",
      "Epoch 00030: val_accuracy did not improve from 0.34375\n"
     ]
    }
   ],
   "source": [
    "model.load_weights('./sub5_training_1/cp.ckpt')\n",
    "history = model.fit(x = train_ds,\n",
    "                    epochs = 30, \n",
    "                    validation_data = val_ds,\n",
    "                    callbacks=[cp_callback])"
   ]
  },
  {
   "cell_type": "code",
   "execution_count": 620,
   "metadata": {},
   "outputs": [
    {
     "name": "stdout",
     "output_type": "stream",
     "text": [
      "8/8 [==============================] - 2s 196ms/step - loss: 2.4792 - accuracy: 0.1552\n"
     ]
    },
    {
     "data": {
      "text/plain": [
       "{'loss': 2.4791853427886963, 'accuracy': 0.1551724076271057}"
      ]
     },
     "execution_count": 620,
     "metadata": {},
     "output_type": "execute_result"
    }
   ],
   "source": [
    "model.load_weights('./sub5_training_1_1/cp.ckpt')\n",
    "model.evaluate(test_ds, return_dict=True)"
   ]
  },
  {
   "cell_type": "code",
   "execution_count": 523,
   "metadata": {},
   "outputs": [],
   "source": [
    "model.save_weights('./sub5_training_1.h5')"
   ]
  },
  {
   "cell_type": "code",
   "execution_count": 368,
   "metadata": {},
   "outputs": [
    {
     "data": {
      "image/png": "[encoded data removed]",
      "text/plain": [
       "<Figure size 1000x800 with 2 Axes>"
      ]
     },
     "metadata": {},
     "output_type": "display_data"
    }
   ],
   "source": [
    "y_pred = []\n",
    "y_true = []\n",
    "\n",
    "for x, y in test_ds:\n",
    "    y_pred_data = model.predict(x)\n",
    "    y_pred.extend(tf.argmax(y_pred_data, axis=1).numpy())\n",
    "    y_true.extend(y.numpy())\n",
    "\n",
    "conf_mat = confusion_matrix(y_true, y_pred)\n",
    "\n",
    "plt.figure(figsize=(10, 8))\n",
    "sns.heatmap(conf_mat, annot=True, fmt='d', cmap='Blues')\n",
    "plt.xlabel('Predicted Labels')\n",
    "plt.xticks([0.5, 1.5, 2.5, 3.5, 4.5, 5.5], ['front', 'back', 'left', 'right', 'up', 'down'])\n",
    "plt.ylabel('True Labels')\n",
    "plt.yticks([0.5, 1.5, 2.5, 3.5, 4.5, 5.5], ['front', 'back', 'left', 'right', 'up', 'down'])\n",
    "plt.title(f'Confusion Matrix for Subject {sub_num} on Test Dataset')\n",
    "plt.savefig(f'./illustration/Confusion Matrix for Subject {sub_num} on Test Dataset.png')"
   ]
  },
  {
   "cell_type": "code",
   "execution_count": 369,
   "metadata": {},
   "outputs": [
    {
     "name": "stdout",
     "output_type": "stream",
     "text": [
      "4/4 [==============================] - 2s 398ms/step - loss: 1.9265 - accuracy: 0.3438\n"
     ]
    },
    {
     "data": {
      "text/plain": [
       "{'loss': 1.9264551401138306, 'accuracy': 0.34375}"
      ]
     },
     "execution_count": 369,
     "metadata": {},
     "output_type": "execute_result"
    }
   ],
   "source": [
    "model.evaluate(val_ds, return_dict=True)"
   ]
  },
  {
   "cell_type": "code",
   "execution_count": 370,
   "metadata": {},
   "outputs": [
    {
     "data": {
      "image/png": "[encoded data removed]",
      "text/plain": [
       "<Figure size 1000x800 with 2 Axes>"
      ]
     },
     "metadata": {},
     "output_type": "display_data"
    }
   ],
   "source": [
    "y_pred = []\n",
    "y_true = []\n",
    "\n",
    "for x, y in val_ds:\n",
    "    y_pred_data = model.predict(x)\n",
    "    y_pred.extend(tf.argmax(y_pred_data, axis=1).numpy())\n",
    "    y_true.extend(y.numpy())\n",
    "\n",
    "conf_mat = confusion_matrix(y_true, y_pred)\n",
    "\n",
    "plt.figure(figsize=(10, 8))\n",
    "sns.heatmap(conf_mat, annot=True, fmt='d', cmap='Blues')\n",
    "plt.xlabel('Predicted Labels')\n",
    "plt.xticks([0.5, 1.5, 2.5, 3.5, 4.5, 5.5], ['front', 'back', 'left', 'right', 'up', 'down'])\n",
    "plt.ylabel('True Labels')\n",
    "plt.yticks([0.5, 1.5, 2.5, 3.5, 4.5, 5.5], ['front', 'back', 'left', 'right', 'up', 'down'])\n",
    "plt.title(f'Confusion Matrix for Subject {sub_num} on Validation Dataset')\n",
    "plt.savefig(f'./illustration/Confusion Matrix for Subject {sub_num} on Validation Dataset.png')"
   ]
  },
  {
   "cell_type": "code",
   "execution_count": 371,
   "metadata": {},
   "outputs": [
    {
     "data": {
      "image/png": "[encoded data removed]",
      "text/plain": [
       "<Figure size 1000x800 with 2 Axes>"
      ]
     },
     "metadata": {},
     "output_type": "display_data"
    }
   ],
   "source": [
    "y_pred = []\n",
    "y_true = []\n",
    "\n",
    "for x, y in test_ds:\n",
    "    y_pred_data = model.predict(x)\n",
    "    y_pred.extend(tf.argmax(y_pred_data, axis=1).numpy())\n",
    "    y_true.extend(y.numpy())\n",
    "\n",
    "for x, y in val_ds:\n",
    "    y_pred_data_val = model.predict(x)\n",
    "    y_pred.extend(tf.argmax(y_pred_data_val, axis=1).numpy())\n",
    "    y_true.extend(y.numpy())\n",
    "\n",
    "conf_mat = confusion_matrix(y_true, y_pred)\n",
    "\n",
    "# conf_mat = multilabel_confusion_matrix(y_true, y_pred) # what?\n",
    "plt.figure(figsize=(10, 8))\n",
    "sns.heatmap(conf_mat, annot=True, fmt='d', cmap='Reds')\n",
    "plt.xlabel('Predicted Labels')\n",
    "plt.xticks([0.5, 1.5, 2.5, 3.5, 4.5, 5.5], ['front', 'back', 'left', 'right', 'up', 'down'])\n",
    "plt.ylabel('True Labels')\n",
    "plt.yticks([0.5, 1.5, 2.5, 3.5, 4.5, 5.5], ['front', 'back', 'left', 'right', 'up', 'down'])\n",
    "plt.title(f'Confusion Matrix for Subject {sub_num} on Hold-out Dataset (90 trials)')\n",
    "plt.savefig(f'./illustration/Confusion Matrix for Subject {sub_num} on Hold-out Dataset.png')"
   ]
  },
  {
   "cell_type": "code",
   "execution_count": 374,
   "metadata": {},
   "outputs": [
    {
     "data": {
      "image/png": "[encoded data removed]",
      "text/plain": [
       "<Figure size 1000x800 with 2 Axes>"
      ]
     },
     "metadata": {},
     "output_type": "display_data"
    }
   ],
   "source": [
    "y_pred = []\n",
    "y_true = []\n",
    "\n",
    "for x, y in test_ds:\n",
    "    y_pred_data = model.predict(x)\n",
    "    y_pred.extend(tf.argmax(y_pred_data, axis=1).numpy())\n",
    "    y_true.extend(y.numpy())\n",
    "\n",
    "for x, y in val_ds:\n",
    "    y_pred_data_val = model.predict(x)\n",
    "    y_pred.extend(tf.argmax(y_pred_data_val, axis=1).numpy())\n",
    "    y_true.extend(y.numpy())\n",
    "\n",
    "conf_mat = confusion_matrix(y_true, y_pred)\n",
    "new_mat = np.zeros((2,2))\n",
    "# D13\n",
    "# new_mat[0, 0] = np.sum(conf_mat[0:2, 0:2])\n",
    "# new_mat[0, 1] = np.sum(conf_mat[0:2, 2:4])\n",
    "# new_mat[1, 1] = np.sum(conf_mat[4:6, 4:6])\n",
    "# new_mat[1, 0] = np.sum(conf_mat[4:6, 0:2])\n",
    "# D12\n",
    "# new_mat[0, 0] = np.sum(conf_mat[0:2, 0:2])\n",
    "# new_mat[0, 1] = np.sum(conf_mat[0:2, 2:4])\n",
    "# new_mat[1, 1] = np.sum(conf_mat[2:4, 2:4])\n",
    "# new_mat[1, 0] = np.sum(conf_mat[2:4, 0:2])\n",
    "# D23\n",
    "new_mat[0, 0] = np.sum(conf_mat[2:4, 2:4])\n",
    "new_mat[0, 1] = np.sum(conf_mat[2:4, 4:6])\n",
    "new_mat[1, 1] = np.sum(conf_mat[4:6, 4:6])\n",
    "new_mat[1, 0] = np.sum(conf_mat[4:6, 2:4])\n",
    "\n",
    "# conf_mat = multilabel_confusion_matrix(y_true, y_pred) # what?\n",
    "plt.figure(figsize=(10, 8))\n",
    "sns.heatmap(new_mat.astype(int), annot=True, fmt='d', cmap='OrRd', annot_kws={'size':35})\n",
    "plt.xlabel('Predicted Labels')\n",
    "# # plt.xticks([0.5, 1.5, 2.5, 3.5, 4.5, 5.5], ['front', 'back', 'left', 'right', 'up', 'down'])\n",
    "# plt.xticks([0.5, 1.5], ['front-back', 'up-down']) # D13\n",
    "# plt.xticks([0.5, 1.5], ['front-back', 'left-right']) # D12\n",
    "plt.xticks([0.5, 1.5], ['left-right', 'up-down']) # D23\n",
    "plt.ylabel('True Labels')\n",
    "# # plt.yticks([0.5, 1.5, 2.5, 3.5, 4.5, 5.5], ['front', 'back', 'left', 'right', 'up', 'down'])\n",
    "# plt.yticks([0.5, 1.5], ['front-back', 'up-down']) # D13\n",
    "# plt.yticks([0.5, 1.5], ['front-back', 'left-right']) # D12\n",
    "plt.yticks([0.5, 1.5], ['left-right', 'up-down']) # D23\n",
    "plt.title(f'Confusion Matrix for Subject {sub_num} on Hold-out Dataset (90 trials) for D2-3')\n",
    "plt.savefig(f'./illustration/Confusion Matrix for Subject {sub_num} on Hold-out Dataset For D2-3.png')"
   ]
  }
 ],
 "metadata": {
  "kernelspec": {
   "display_name": "Python 3",
   "language": "python",
   "name": "python3"
  },
  "language_info": {
   "codemirror_mode": {
    "name": "ipython",
    "version": 3
   },
   "file_extension": ".py",
   "mimetype": "text/x-python",
   "name": "python",
   "nbconvert_exporter": "python",
   "pygments_lexer": "ipython3",
   "version": "3.9.18"
  }
 },
 "nbformat": 4,
 "nbformat_minor": 2
}
